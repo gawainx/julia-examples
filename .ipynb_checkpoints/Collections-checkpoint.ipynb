{
 "cells": [
  {
   "cell_type": "markdown",
   "metadata": {},
   "source": [
    "# Dict"
   ]
  },
  {
   "cell_type": "code",
   "execution_count": 1,
   "metadata": {},
   "outputs": [
    {
     "data": {
      "text/plain": [
       "Dict{String,String} with 2 entries:\n",
       "  \"J\" => \"Julia\"\n",
       "  \"H\" => \"Hello\""
      ]
     },
     "metadata": {},
     "output_type": "display_data"
    }
   ],
   "source": [
    "# create a dict\n",
    "b = Dict{String,String}() #create empty dict(), both key and val type is String\n",
    "b[\"H\"] = \"Hello\"\n",
    "b[\"J\"] = \"Julia\"\n",
    "display(b)"
   ]
  },
  {
   "cell_type": "code",
   "execution_count": 2,
   "metadata": {},
   "outputs": [
    {
     "name": "stdout",
     "output_type": "stream",
     "text": [
      "J\n",
      "Julia\n",
      "H\n",
      "Hello\n"
     ]
    }
   ],
   "source": [
    "# foreach by key\n",
    "for key in keys(b)\n",
    "    println(key)\n",
    "    println(b[key])\n",
    "end"
   ]
  },
  {
   "cell_type": "code",
   "execution_count": 13,
   "metadata": {},
   "outputs": [
    {
     "name": "stdout",
     "output_type": "stream",
     "text": [
      "Julia\n",
      "Hello\n"
     ]
    }
   ],
   "source": [
    "for v ∈ values(b)\n",
    "    println(v)\n",
    "end"
   ]
  },
  {
   "cell_type": "markdown",
   "metadata": {},
   "source": [
    "# Tuple"
   ]
  },
  {
   "cell_type": "code",
   "execution_count": 3,
   "metadata": {},
   "outputs": [
    {
     "name": "stdout",
     "output_type": "stream",
     "text": [
      "Tuple{String,String,String}\n"
     ]
    }
   ],
   "source": [
    "# general tuple\n",
    "t = (\"head\", \"rel\", \"tail\")\n",
    "println(typeof(t)) # Tuple{String,String,String}"
   ]
  },
  {
   "cell_type": "code",
   "execution_count": 4,
   "metadata": {},
   "outputs": [
    {
     "name": "stdout",
     "output_type": "stream",
     "text": [
      "head\n",
      "tail\n",
      "rel\n"
     ]
    }
   ],
   "source": [
    "# NamedTuple\n",
    "function main()\n",
    "    # because type declarations on global variables are not yet supported\n",
    "    kb = NamedTuple{(:head, :rel, :tail),Tuple{String,String,String}} # type alias using =\n",
    "    t = kb((\"head\", \"rel\", \"tail\")) # convert tuple to name tuple\n",
    "    # Now we can use dot sign to access members of t.\n",
    "    println(t.head)\n",
    "    println(t.tail)\n",
    "    println(t.rel)\n",
    "end\n",
    "\n",
    "main()"
   ]
  },
  {
   "cell_type": "markdown",
   "metadata": {},
   "source": [
    "# Array"
   ]
  },
  {
   "cell_type": "code",
   "execution_count": 6,
   "metadata": {},
   "outputs": [
    {
     "name": "stdout",
     "output_type": "stream",
     "text": [
      "1\n",
      "2\n",
      "3\n",
      "4\n",
      "5\n",
      "length of list l is 5\n"
     ]
    }
   ],
   "source": [
    "l = [1,2,3,4,5]\n",
    "for i ∈ l\n",
    "    println(i)\n",
    "end\n",
    "println(\"length of list l is $(length(l))\")"
   ]
  },
  {
   "cell_type": "code",
   "execution_count": 11,
   "metadata": {},
   "outputs": [
    {
     "data": {
      "text/plain": [
       "5-element Array{Int64,1}:\n",
       " 1\n",
       " 2\n",
       " 3\n",
       " 4\n",
       " 5"
      ]
     },
     "metadata": {},
     "output_type": "display_data"
    },
    {
     "name": "stdout",
     "output_type": "stream",
     "text": [
      "false\n",
      "true\n",
      "true\n"
     ]
    }
   ],
   "source": [
    "# empty a list\n",
    "l = [1,2,3,4,5]\n",
    "println(isempty(l))\n",
    "s = empty(l)\n",
    "display(l)\n",
    "println(isempty(s))\n",
    "empty!(l) # change l\n",
    "println(isempty(l))"
   ]
  },
  {
   "cell_type": "code",
   "execution_count": null,
   "metadata": {},
   "outputs": [],
   "source": []
  }
 ],
 "metadata": {
  "kernelspec": {
   "display_name": "Julia 1.2.0",
   "language": "julia",
   "name": "julia-1.2"
  },
  "language_info": {
   "file_extension": ".jl",
   "mimetype": "application/julia",
   "name": "julia",
   "version": "1.2.0"
  }
 },
 "nbformat": 4,
 "nbformat_minor": 2
}
